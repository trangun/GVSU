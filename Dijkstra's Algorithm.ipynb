{
 "cells": [
  {
   "cell_type": "code",
   "execution_count": 585,
   "metadata": {},
   "outputs": [],
   "source": [
    "graph1 = {'A':[['B',10], ['D', 5]], 'B':[['A', 10], ['C', 5]], 'C':[['B', 5],['D', 15]], 'D' : [['C', 15], ['A', 5]]}\n",
    "graph2 = {'A':[['B',10], ['D', 5], ['C',5]], 'B':[['A', 10], ['C', 5]], 'C':[['B', 5],['D', 15],['A',5]], 'D' : [['C', 15], ['A', 5]]}\n",
    "graph3 = {'A':[['B',10], ['D', 5]], 'B':[['A', 10], ['C', 5]], 'C':[['B', 5],['D', 15]], 'D' : [['C', 15], ['A', 5]], 'E':[['F', 5]], 'F': [['E',5]]}"
   ]
  },
  {
   "cell_type": "code",
   "execution_count": 586,
   "metadata": {},
   "outputs": [],
   "source": [
    "import copy\n",
    "def infty(graph):\n",
    "    uGraph = copy.deepcopy(graph)\n",
    "    unWeight = 0\n",
    "    for key in uGraph:\n",
    "        for w in uGraph[key]:\n",
    "            unWeight += w[1]\n",
    "    weight = int(unWeight/2) + 1         \n",
    "    return weight"
   ]
  },
  {
   "cell_type": "code",
   "execution_count": 587,
   "metadata": {},
   "outputs": [
    {
     "data": {
      "text/plain": [
       "36"
      ]
     },
     "execution_count": 587,
     "metadata": {},
     "output_type": "execute_result"
    }
   ],
   "source": [
    "infty(graph1)"
   ]
  },
  {
   "cell_type": "code",
   "execution_count": 588,
   "metadata": {},
   "outputs": [
    {
     "data": {
      "text/plain": [
       "41"
      ]
     },
     "execution_count": 588,
     "metadata": {},
     "output_type": "execute_result"
    }
   ],
   "source": [
    "infty(graph3)"
   ]
  },
  {
   "cell_type": "code",
   "execution_count": 589,
   "metadata": {},
   "outputs": [],
   "source": [
    "def initial(graph, source):\n",
    "    uGraph = copy.deepcopy(graph)\n",
    "    ini = {}\n",
    "    for key in uGraph:\n",
    "        if source == key:\n",
    "            ini[key] = 0 \n",
    "        else:\n",
    "            ini[key] = infty(uGraph)\n",
    "    \n",
    "    return ini"
   ]
  },
  {
   "cell_type": "code",
   "execution_count": 590,
   "metadata": {},
   "outputs": [
    {
     "data": {
      "text/plain": [
       "{'A': 0, 'B': 36, 'C': 36, 'D': 36}"
      ]
     },
     "execution_count": 590,
     "metadata": {},
     "output_type": "execute_result"
    }
   ],
   "source": [
    "initial(graph1, 'A')"
   ]
  },
  {
   "cell_type": "code",
   "execution_count": 591,
   "metadata": {},
   "outputs": [
    {
     "data": {
      "text/plain": [
       "{'A': 0, 'B': 41, 'C': 41, 'D': 41}"
      ]
     },
     "execution_count": 591,
     "metadata": {},
     "output_type": "execute_result"
    }
   ],
   "source": [
    "initial(graph2, 'A')"
   ]
  },
  {
   "cell_type": "code",
   "execution_count": 592,
   "metadata": {},
   "outputs": [],
   "source": [
    "color1 = {'A':0, 'B':10, 'C':10, 'D':15}\n",
    "color2 = {'A':10, 'B':0, 'C':10, 'D':15, 'E':25}"
   ]
  },
  {
   "cell_type": "code",
   "execution_count": 593,
   "metadata": {},
   "outputs": [],
   "source": [
    "def find_min(color, queue):\n",
    "    key_queue = {}\n",
    "    for key in color:\n",
    "        if key in queue:\n",
    "            key_queue[key] = color[key]\n",
    "            minval = min(key_queue.values())\n",
    "            m = [k for k, v in key_queue.items() if v == minval]\n",
    "            return m\n",
    "         \n",
    "            "
   ]
  },
  {
   "cell_type": "code",
   "execution_count": 594,
   "metadata": {},
   "outputs": [
    {
     "data": {
      "text/plain": [
       "['A']"
      ]
     },
     "execution_count": 594,
     "metadata": {},
     "output_type": "execute_result"
    }
   ],
   "source": [
    "find_min(color1, ['A', 'D'])"
   ]
  },
  {
   "cell_type": "code",
   "execution_count": 595,
   "metadata": {},
   "outputs": [
    {
     "data": {
      "text/plain": [
       "['B']"
      ]
     },
     "execution_count": 595,
     "metadata": {},
     "output_type": "execute_result"
    }
   ],
   "source": [
    "find_min(color1, ['B', 'C', 'D'])"
   ]
  },
  {
   "cell_type": "code",
   "execution_count": 596,
   "metadata": {},
   "outputs": [
    {
     "data": {
      "text/plain": [
       "['A']"
      ]
     },
     "execution_count": 596,
     "metadata": {},
     "output_type": "execute_result"
    }
   ],
   "source": [
    "find_min(color2, ['C', 'D', 'E', 'A'])"
   ]
  },
  {
   "cell_type": "code",
   "execution_count": 597,
   "metadata": {},
   "outputs": [],
   "source": [
    "def dijkstra(graph, source):\n",
    "    #Initialization\n",
    "    uGraph = copy.deepcopy(graph)\n",
    "    Q = initial(uGraph, source) #vertices list or dictionary\n",
    "    S = {}\n",
    "\n",
    "    #Iteration    \n",
    "    while uGraph:\n",
    "        minNode = None\n",
    "        for node in uGraph:\n",
    "            if minNode is None:\n",
    "                minNode = node\n",
    "            elif Q[node] < Q[minNode]:\n",
    "                minNode = node\n",
    "         \n",
    "        for cwNode in graph[minNode]: #cwNode: child node with its weight\n",
    "            if cwNode[1] + Q[minNode] < Q[cwNode[0]]:\n",
    "                Q[cwNode[0]] = cwNode[1] + Q[minNode]\n",
    "                S[cwNode[0]] = minNode\n",
    "                \n",
    "        uGraph.pop(minNode)\n",
    "                                           \n",
    "    return Q"
   ]
  },
  {
   "cell_type": "code",
   "execution_count": 598,
   "metadata": {},
   "outputs": [
    {
     "data": {
      "text/plain": [
       "{'A': 0, 'B': 10, 'C': 15, 'D': 5}"
      ]
     },
     "execution_count": 598,
     "metadata": {},
     "output_type": "execute_result"
    }
   ],
   "source": [
    "dijkstra(graph1, 'A')"
   ]
  },
  {
   "cell_type": "code",
   "execution_count": 599,
   "metadata": {},
   "outputs": [
    {
     "data": {
      "text/plain": [
       "{'A': 10, 'B': 0, 'C': 5, 'D': 15, 'E': 41, 'F': 41}"
      ]
     },
     "execution_count": 599,
     "metadata": {},
     "output_type": "execute_result"
    }
   ],
   "source": [
    "dijkstra(graph3, 'B')"
   ]
  },
  {
   "cell_type": "code",
   "execution_count": 600,
   "metadata": {},
   "outputs": [
    {
     "data": {
      "text/plain": [
       "{'A': 5, 'B': 5, 'C': 0, 'D': 10}"
      ]
     },
     "execution_count": 600,
     "metadata": {},
     "output_type": "execute_result"
    }
   ],
   "source": [
    "dijkstra(graph2, 'C')"
   ]
  },
  {
   "cell_type": "code",
   "execution_count": 601,
   "metadata": {},
   "outputs": [],
   "source": [
    "def is_connected(graph):\n",
    "    uGraph = copy.deepcopy(graph)\n",
    "    v = []\n",
    "    connected = True\n",
    "    for node in uGraph:\n",
    "        v.append(node)\n",
    "    path = dijkstra(uGraph, str(v[0]))\n",
    "    \n",
    "    for k in path:\n",
    "        if path[k] == infty(uGraph):\n",
    "            connected = False\n",
    "    \n",
    "    return connected"
   ]
  },
  {
   "cell_type": "code",
   "execution_count": 602,
   "metadata": {},
   "outputs": [
    {
     "data": {
      "text/plain": [
       "True"
      ]
     },
     "execution_count": 602,
     "metadata": {},
     "output_type": "execute_result"
    }
   ],
   "source": [
    "is_connected(graph1)"
   ]
  },
  {
   "cell_type": "code",
   "execution_count": 603,
   "metadata": {},
   "outputs": [
    {
     "data": {
      "text/plain": [
       "False"
      ]
     },
     "execution_count": 603,
     "metadata": {},
     "output_type": "execute_result"
    }
   ],
   "source": [
    "is_connected(graph3)"
   ]
  },
  {
   "cell_type": "code",
   "execution_count": 604,
   "metadata": {},
   "outputs": [
    {
     "data": {
      "text/plain": [
       "True"
      ]
     },
     "execution_count": 604,
     "metadata": {},
     "output_type": "execute_result"
    }
   ],
   "source": [
    "is_connected(graph2)"
   ]
  },
  {
   "cell_type": "code",
   "execution_count": null,
   "metadata": {},
   "outputs": [],
   "source": []
  }
 ],
 "metadata": {
  "kernelspec": {
   "display_name": "Python 3",
   "language": "python",
   "name": "python3"
  },
  "language_info": {
   "codemirror_mode": {
    "name": "ipython",
    "version": 3
   },
   "file_extension": ".py",
   "mimetype": "text/x-python",
   "name": "python",
   "nbconvert_exporter": "python",
   "pygments_lexer": "ipython3",
   "version": "3.6.5"
  }
 },
 "nbformat": 4,
 "nbformat_minor": 2
}
