{
 "cells": [
  {
   "cell_type": "code",
   "execution_count": 1,
   "metadata": {},
   "outputs": [],
   "source": [
    "ground1 = ['A','B','C','D','E']\n",
    "relation1 = [['A','A'], ['A','D'], ['B', 'C'], ['B','D'], ['C', 'E'], ['D', 'E'], ['D', 'A'], ['E', 'E']]\n",
    "ground2 = ['A','B','C']\n",
    "relation2 = [['A','A'], ['A','B'], ['A', 'C'], ['B','B'], ['B', 'A'], ['C', 'C'], ['C', 'A']]\n",
    "ground3 = ['A','B','C','D']\n",
    "relation3 = [['A','A'], ['A','B'], ['A', 'C'], ['A', 'D'], ['B', 'D'], ['C', 'D'], ['C', 'C']]"
   ]
  },
  {
   "cell_type": "code",
   "execution_count": 2,
   "metadata": {},
   "outputs": [],
   "source": [
    "def is_reflex(ground, relation):\n",
    "    result = set((a, b) for a, b in relation if a == b)\n",
    "    return True if len(ground) == len(result) else False          "
   ]
  },
  {
   "cell_type": "code",
   "execution_count": 3,
   "metadata": {},
   "outputs": [
    {
     "data": {
      "text/plain": [
       "False"
      ]
     },
     "execution_count": 3,
     "metadata": {},
     "output_type": "execute_result"
    }
   ],
   "source": [
    "is_reflex(ground1, relation1)"
   ]
  },
  {
   "cell_type": "code",
   "execution_count": 4,
   "metadata": {},
   "outputs": [
    {
     "data": {
      "text/plain": [
       "True"
      ]
     },
     "execution_count": 4,
     "metadata": {},
     "output_type": "execute_result"
    }
   ],
   "source": [
    "is_reflex(ground2, relation2)"
   ]
  },
  {
   "cell_type": "code",
   "execution_count": 5,
   "metadata": {},
   "outputs": [
    {
     "data": {
      "text/plain": [
       "False"
      ]
     },
     "execution_count": 5,
     "metadata": {},
     "output_type": "execute_result"
    }
   ],
   "source": [
    "is_reflex(ground3, relation3)"
   ]
  },
  {
   "cell_type": "code",
   "execution_count": 6,
   "metadata": {},
   "outputs": [],
   "source": [
    "def is_sym(ground, relation):\n",
    "    return True if all(edge[::-1] in relation for edge in relation) else False"
   ]
  },
  {
   "cell_type": "code",
   "execution_count": 7,
   "metadata": {},
   "outputs": [
    {
     "data": {
      "text/plain": [
       "False"
      ]
     },
     "execution_count": 7,
     "metadata": {},
     "output_type": "execute_result"
    }
   ],
   "source": [
    "is_sym(ground1, relation1)"
   ]
  },
  {
   "cell_type": "code",
   "execution_count": 8,
   "metadata": {},
   "outputs": [
    {
     "data": {
      "text/plain": [
       "True"
      ]
     },
     "execution_count": 8,
     "metadata": {},
     "output_type": "execute_result"
    }
   ],
   "source": [
    "is_sym(ground2, relation2)"
   ]
  },
  {
   "cell_type": "code",
   "execution_count": 9,
   "metadata": {},
   "outputs": [
    {
     "data": {
      "text/plain": [
       "False"
      ]
     },
     "execution_count": 9,
     "metadata": {},
     "output_type": "execute_result"
    }
   ],
   "source": [
    "is_sym(ground3, relation3)"
   ]
  },
  {
   "cell_type": "code",
   "execution_count": 10,
   "metadata": {},
   "outputs": [],
   "source": [
    "def is_antisym(ground, relation):\n",
    "    for a, b in relation:\n",
    "        #needs to use square bracket here\n",
    "        if [a,b] in relation and [b,a] in relation and a != b: \n",
    "            return False\n",
    "    return True"
   ]
  },
  {
   "cell_type": "code",
   "execution_count": 11,
   "metadata": {},
   "outputs": [
    {
     "data": {
      "text/plain": [
       "False"
      ]
     },
     "execution_count": 11,
     "metadata": {},
     "output_type": "execute_result"
    }
   ],
   "source": [
    "is_antisym(ground1, relation1)"
   ]
  },
  {
   "cell_type": "code",
   "execution_count": 12,
   "metadata": {},
   "outputs": [
    {
     "data": {
      "text/plain": [
       "True"
      ]
     },
     "execution_count": 12,
     "metadata": {},
     "output_type": "execute_result"
    }
   ],
   "source": [
    "is_antisym(ground3, relation3)"
   ]
  },
  {
   "cell_type": "code",
   "execution_count": 13,
   "metadata": {},
   "outputs": [],
   "source": [
    "def is_trans(ground, relation):\n",
    "    for a, b in relation:\n",
    "        for c, d in relation:\n",
    "            if b == c and [a,d] not in relation:\n",
    "                return False\n",
    "    return True"
   ]
  },
  {
   "cell_type": "code",
   "execution_count": 14,
   "metadata": {},
   "outputs": [
    {
     "data": {
      "text/plain": [
       "False"
      ]
     },
     "execution_count": 14,
     "metadata": {},
     "output_type": "execute_result"
    }
   ],
   "source": [
    "is_trans(ground1, relation1)"
   ]
  },
  {
   "cell_type": "code",
   "execution_count": 15,
   "metadata": {},
   "outputs": [
    {
     "data": {
      "text/plain": [
       "True"
      ]
     },
     "execution_count": 15,
     "metadata": {},
     "output_type": "execute_result"
    }
   ],
   "source": [
    "is_trans(ground3, relation3)"
   ]
  },
  {
   "cell_type": "code",
   "execution_count": 16,
   "metadata": {},
   "outputs": [],
   "source": [
    "digraph1 = {'A': ['B', 'C', 'D'], 'B': ['C', 'D'], 'C':['D'], 'D':[]}\n",
    "digraph2 = {'A': ['B', 'C'], 'B': ['A'], 'C':['A']}\n",
    "digraph3 = {'A': ['B', 'C', 'D'], 'B': [], 'C':['B', 'D'], 'D':[]}"
   ]
  },
  {
   "cell_type": "code",
   "execution_count": 3,
   "metadata": {},
   "outputs": [],
   "source": [
    "def trans_red(digraph):\n",
    "    edge = []\n",
    "    no = []\n",
    "    red ={}\n",
    "    for node in digraph:\n",
    "        no.append(node)\n",
    "        for n in digraph[node]:\n",
    "            edge.append([node, n])\n",
    "            \n",
    "    for a,b in edge:\n",
    "        for c, d in edge:\n",
    "            for e, f in edge:\n",
    "                if b==c and [a,d] in edge :\n",
    "                    edge.remove([a,d])\n",
    "                elif a ==c and b == e and [a, f] in edge:\n",
    "                    edge.remove([a,f])\n",
    "            \n",
    "    \n",
    "    for n in no:\n",
    "        red[n] = []\n",
    "        \n",
    "    for k in red:\n",
    "        for e in edge:\n",
    "            if e[0] == k:\n",
    "                red[k].append(e[1])\n",
    "    \n",
    "    return red"
   ]
  },
  {
   "cell_type": "code",
   "execution_count": 4,
   "metadata": {},
   "outputs": [
    {
     "data": {
      "text/plain": [
       "{'A': ['B', 'E'], 'B': ['C'], 'C': ['D'], 'D': [], 'E': ['F'], 'F': []}"
      ]
     },
     "execution_count": 4,
     "metadata": {},
     "output_type": "execute_result"
    }
   ],
   "source": [
    "trans_red({\"A\":[\"B\", \"C\", \"D\", \"E\", \"F\"], \"B\":[\"C\", \"D\"], \"C\":[\"D\"], \"D\":[], \"E\":[\"F\"], \"F\":[]}) "
   ]
  },
  {
   "cell_type": "code",
   "execution_count": null,
   "metadata": {},
   "outputs": [],
   "source": []
  }
 ],
 "metadata": {
  "kernelspec": {
   "display_name": "Python 3",
   "language": "python",
   "name": "python3"
  },
  "language_info": {
   "codemirror_mode": {
    "name": "ipython",
    "version": 3
   },
   "file_extension": ".py",
   "mimetype": "text/x-python",
   "name": "python",
   "nbconvert_exporter": "python",
   "pygments_lexer": "ipython3",
   "version": "3.6.5"
  }
 },
 "nbformat": 4,
 "nbformat_minor": 2
}
